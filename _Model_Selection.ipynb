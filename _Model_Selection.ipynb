{
  "nbformat": 4,
  "nbformat_minor": 0,
  "metadata": {
    "colab": {
      "provenance": []
    },
    "kernelspec": {
      "name": "python3",
      "display_name": "Python 3"
    },
    "language_info": {
      "name": "python"
    }
  },
  "cells": [
    {
      "cell_type": "code",
      "execution_count": null,
      "metadata": {
        "id": "O-Arqtogwovx"
      },
      "outputs": [],
      "source": [
        "\n",
        "from sklearn.neighbors import KNeighborsClassifier\n",
        "from sklearn.svm import SVC\n",
        "\n",
        "knn_model = KNeighborsClassifier()\n",
        "svm_model = SVC()\n"
      ]
    },
    {
      "cell_type": "code",
      "source": [
        "from sklearn.model_selection import cross_val_score, StratifiedKFold\n",
        "\n",
        "kfold = KFold(n_splits=5)  # Adjust the number of splits as needed\n",
        "stratified_kfold = StratifiedKFold(n_splits=5)\n",
        "\n",
        "# Cross-validation for kNN\n",
        "knn_scores = cross_val_score(knn_model, X, y, cv=kfold)\n",
        "knn_avg_accuracy = knn_scores.mean()\n",
        "\n",
        "# Cross-validation for SVM\n",
        "svm_scores = cross_val_score(svm_model, X, y, cv=stratified_kfold)\n",
        "svm_avg_accuracy = svm_scores.mean()\n",
        "\n",
        "\n"
      ],
      "metadata": {
        "id": "6CjNLmVcwuQS"
      },
      "execution_count": null,
      "outputs": []
    }
  ]
}